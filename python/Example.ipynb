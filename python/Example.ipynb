{
 "cells": [
  {
   "cell_type": "markdown",
   "id": "ad9cb874-4cd9-4f21-85c7-97acd328a4f5",
   "metadata": {},
   "source": [
    "# Example Usage of ConturPy\n",
    "## Noah Stockwell 4/17/2022"
   ]
  },
  {
   "cell_type": "markdown",
   "id": "f70f0f15-7540-4b2d-a17d-c8ff15b46d9b",
   "metadata": {},
   "source": [
    "This repository depends on numpy and scipy. Pandas is required to use ConturTable.to_pandas() routine which is exposed for the user, but not implemented in this example.\n",
    "\n",
    "Although ConturPy consists of many files, only ConturSettings and ConturApplication are required to do most standard work with Contur. ConturSettings provides a class-based interface to create input cards for Contur and ConturApplication provides the runtime and results for the compiled Contur executable. "
   ]
  },
  {
   "cell_type": "code",
   "execution_count": 1,
   "id": "1f478ae5-3629-42ff-a80d-6429cf6bd807",
   "metadata": {
    "pycharm": {
     "name": "#%%\n"
    }
   },
   "outputs": [],
   "source": [
    "from conturpy import ConturSettings, ConturApplication"
   ]
  },
  {
   "cell_type": "markdown",
   "id": "b180b2a3-fecd-4a03-a845-1e421db481e0",
   "metadata": {},
   "source": [
    "First, we must create the input parameters for Contur. Below, input cards for designing a Mach 5 nozzle are created programmatically."
   ]
  },
  {
   "cell_type": "code",
   "execution_count": 5,
   "id": "0635dfe0-666d-4a0b-8ce0-a3c72fbdda3f",
   "metadata": {
    "pycharm": {
     "name": "#%%\n"
    }
   },
   "outputs": [],
   "source": [
    "c = ConturSettings()\n",
    "\n",
    "dmach = 5                 # design mach\n",
    "throat_radius = 0.26 / 2  # inches\n",
    "\n",
    "# Card 1: the title of the simulation\n",
    "c[\"ITLE\"] = f\"Mach {dmach}\"\n",
    "\n",
    "# Card 2 contains gas properties. As air is the assumed working fluid, no changes are required\n",
    "\n",
    "# Card 3: key design parameters\n",
    "c[\"ETAD\"] = 60      # Angle at point D\n",
    "c[\"RC\"] = 6.0       # Radius of curvature at throat [multiple of throat radius]\n",
    "c[\"CMC\"] = dmach    # Design mach\n",
    "c[\"SF\"] = throat_radius\n",
    "\n",
    "# Card 6 (B): stagnation and heat transfer properties\n",
    "c[\"PPQ\"] = 120      # Stagnation pressure [psia]\n",
    "c[\"TO\"] = 1000      # Stagnation temperature [R]\n",
    "c[\"TWT\"] = 540      # Wall temperature [R]\n",
    "c[\"TWAT\"] = 540     # Water-cooling temp [R] (suggest setting to TWT since water cooling not assumed)\n",
    "\n",
    "# Card 7 (D): interpolation parameters\n",
    "c[\"XLOW\"] = 0       # Point to begin interpolating contour [in]\n",
    "c[\"XEND\"] = 20      # Point to end interpolating contour [in]\n",
    "c[\"XINC\"] = .1      # Increment to interpolate by [in]\n",
    "\n",
    "# Create the input text file and save it to 'm5.0.txt' in the folder 'inputcards'\n",
    "c.print_to_input(fname=f'm{dmach:.1f}.txt', outdir='inputcards')"
   ]
  },
  {
   "cell_type": "markdown",
   "id": "ba607a84-83a2-4b4b-9dd3-9a4176ad0f44",
   "metadata": {},
   "source": [
    "Next, initialize and run the Contur executable for all files in the 'inputcards' folder and send all outputs to the 'outputs' folder. All files used as inputs are automatically removed. A ConturResults instance is created for every input and returned.\n",
    "\n",
    "Contur's boundary layer output is unusual and the author could not figure out how to treat this subsection. Attempting to read boundary layer output will often throw a warning about un-formatted extra Contur array outputs, but this is fine as no data is lost."
   ]
  },
  {
   "cell_type": "code",
   "execution_count": 3,
   "id": "6e10d2f2",
   "metadata": {
    "collapsed": false,
    "jupyter": {
     "outputs_hidden": false
    },
    "pycharm": {
     "name": "#%%\n"
    }
   },
   "outputs": [
    {
     "name": "stderr",
     "output_type": "stream",
     "text": [
      "/Users/noahstockwell/PycharmProjects/contur-search/python/conturpy/read_output.py:435: UserWarning: Boundary Layer: Unable to add un-formatted extra CONTUR array output on line 76\n",
      "  warnings.warn(\n"
     ]
    }
   ],
   "source": [
    "ca = ConturApplication()\n",
    "res = ca.batch_input_folder('inputcards', output_dir='outputs')"
   ]
  },
  {
   "cell_type": "markdown",
   "id": "5556256b-918a-4ca1-8c41-9a96158983ec",
   "metadata": {},
   "source": [
    "Lastly, for every ConturResult (we only have one from Mach 5.0), save plots and data in .csv files to a subfolder under the 'outputs' folder titled 'nozzle_5.0/'\n",
    "\n",
    "The cell starts with %%capture to prevent drawing of half-finished plots"
   ]
  },
  {
   "cell_type": "code",
   "execution_count": 4,
   "id": "605d47ef-3145-45f7-9382-798391ab3535",
   "metadata": {},
   "outputs": [],
   "source": [
    "%%capture\n",
    "\n",
    "for r in res:\n",
    "    r.save_all(f'outputs/nozzle_{r.design_mach}')"
   ]
  }
 ],
 "metadata": {
  "kernelspec": {
   "display_name": "Python (3.9)",
   "language": "python",
   "name": "python39"
  },
  "language_info": {
   "codemirror_mode": {
    "name": "ipython",
    "version": 3
   },
   "file_extension": ".py",
   "mimetype": "text/x-python",
   "name": "python",
   "nbconvert_exporter": "python",
   "pygments_lexer": "ipython3",
   "version": "3.9.7"
  }
 },
 "nbformat": 4,
 "nbformat_minor": 5
}
