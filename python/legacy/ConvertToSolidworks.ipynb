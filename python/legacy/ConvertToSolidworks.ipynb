{
 "cells": [
  {
   "cell_type": "code",
   "execution_count": 1,
   "id": "animal-magnet",
   "metadata": {},
   "outputs": [],
   "source": [
    "import numpy as np\n",
    "import glob\n",
    "from scipy.optimize import root_scalar"
   ]
  },
  {
   "cell_type": "code",
   "execution_count": 5,
   "id": "accessible-ordering",
   "metadata": {},
   "outputs": [],
   "source": [
    "cfs = glob.glob('complete_stream/*.txt')"
   ]
  },
  {
   "cell_type": "code",
   "execution_count": 6,
   "id": "acknowledged-payment",
   "metadata": {},
   "outputs": [],
   "source": [
    "for file in cfs:\n",
    "\n",
    "    with open(file, 'r') as in_file:\n",
    "        noz_length = float(in_file.readlines()[1].replace('#', '').strip())\n",
    "\n",
    "    ar = np.genfromtxt(file, delimiter=',', skip_header=2)\n",
    "    throat = ar[0, 0]\n",
    "    reduced_ar = ar[ar[:, 0] >= throat, 0:2]\n",
    "    reduced_ar = reduced_ar[reduced_ar[:, 0] <= 1.5 * throat]\n",
    "    reduced_ar[:, 0] -= throat\n",
    "    _, validIdx = np.unique(reduced_ar[:, 0], return_index=True)\n",
    "    reduced_ar = reduced_ar[validIdx, :]\n",
    "    reduced_ar = np.hstack([reduced_ar, np.zeros((reduced_ar.shape[0], 1))])\n",
    "\n",
    "    rc = 6\n",
    "\n",
    "    r = rc * reduced_ar[0, 1]\n",
    "    y0 = reduced_ar[0, 1]\n",
    "\n",
    "    x1 = reduced_ar[1, 0]\n",
    "    y1 = reduced_ar[1, 1]\n",
    "\n",
    "    def interpolate_between(x1, x2, y1, y2, dydx1, dydx2, npts=21):\n",
    "        pow0 = np.array([3, 2, 1, 0])\n",
    "        pow1 = np.array([2, 1, 0, 0])\n",
    "\n",
    "        k0 = np.array([1, 1, 1, 1])\n",
    "        k1 = np.array([3, 2, 1, 0])\n",
    "\n",
    "        A = np.array([k0 * x1 ** pow0, k1 * x1 ** pow1, k0 * x2 ** pow0, k1 * x2 ** pow1])\n",
    "\n",
    "        B = np.array([y1, s1, y2, s2])\n",
    "\n",
    "        coeffs = np.linalg.solve(A, B)\n",
    "\n",
    "        x_vals = np.linspace(x1, x2, 9)\n",
    "        y_vals = np.sum(coeffs * x_vals[:, None] ** pow0, axis=1)\n",
    "\n",
    "        return x_vals, y_vals\n",
    "\n",
    "    valid_ar = np.logical_and(ar[:, 0] >= ar[0, 0], ar[:, 0] <= ar[0, 0] + noz_length)\n",
    "    the_ar = ar[valid_ar, :]\n",
    "    _, unique_idx = np.unique(the_ar[:, 0], return_index=True)\n",
    "    the_ar = the_ar[unique_idx]\n",
    "\n",
    "    this_idx = 0\n",
    "\n",
    "    x1 = the_ar[this_idx, 0]\n",
    "    y1 = the_ar[this_idx, 1]\n",
    "    s1 = the_ar[this_idx, 2]\n",
    "\n",
    "    x2 = the_ar[this_idx + 1, 0]\n",
    "    y2 = the_ar[this_idx + 1, 1]\n",
    "    s2 = the_ar[this_idx + 1, 2]\n",
    "\n",
    "    x_val_ar = []\n",
    "    y_val_ar = []\n",
    "\n",
    "    for x1, y1, s1, x2, y2, s2 in zip(the_ar[:-1, 0], the_ar[:-1, 1], the_ar[:-1, 2], the_ar[1:, 0], the_ar[1:, 1], the_ar[1:, 2]):\n",
    "        x_vals, y_vals = interpolate_between(x1, x2, y1, y2, s1, s2)\n",
    "        x_val_ar.append(x_vals)\n",
    "        y_val_ar.append(y_vals)\n",
    "\n",
    "    x_vals = np.hstack(x_val_ar) - x_val_ar[0][0]\n",
    "    y_vals = np.hstack(y_val_ar)\n",
    "    xyz_vals = np.vstack([x_vals, y_vals, np.zeros(x_vals.shape)]).T\n",
    "    \n",
    "    _, unique_idx = np.unique(x_vals, return_index=True)\n",
    "    \n",
    "    file_short = file.split('\\\\')[1]\n",
    "    np.savetxt(f\"SolidWorks_stream/{file_short}\", xyz_vals[unique_idx, :])"
   ]
  },
  {
   "cell_type": "code",
   "execution_count": null,
   "id": "encouraging-mystery",
   "metadata": {},
   "outputs": [],
   "source": []
  }
 ],
 "metadata": {
  "kernelspec": {
   "display_name": "Python 3 (ipykernel)",
   "language": "python",
   "name": "python3"
  },
  "language_info": {
   "codemirror_mode": {
    "name": "ipython",
    "version": 3
   },
   "file_extension": ".py",
   "mimetype": "text/x-python",
   "name": "python",
   "nbconvert_exporter": "python",
   "pygments_lexer": "ipython3",
   "version": "3.9.9"
  }
 },
 "nbformat": 4,
 "nbformat_minor": 5
}
