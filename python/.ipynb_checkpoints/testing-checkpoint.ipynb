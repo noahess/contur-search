{
 "cells": [
  {
   "cell_type": "code",
   "execution_count": 2,
   "id": "judicial-republic",
   "metadata": {},
   "outputs": [],
   "source": [
    "import numpy as np\n",
    "import glob"
   ]
  },
  {
   "cell_type": "code",
   "execution_count": 4,
   "id": "packed-economics",
   "metadata": {},
   "outputs": [],
   "source": [
    "cfs = glob.glob('complete/*.txt')"
   ]
  },
  {
   "cell_type": "code",
   "execution_count": 46,
   "id": "satisfactory-juvenile",
   "metadata": {},
   "outputs": [],
   "source": [
    "for file in cfs:\n",
    "    with open(file, 'r') as in_file:\n",
    "        noz_length = float(in_file.readlines()[1].replace('#', '').strip())\n",
    "    ar = np.genfromtxt(file, delimiter=',', skip_header=2)\n",
    "    throat = ar[0, 0]\n",
    "    reduced_ar = np.hstack([reduced_ar, np.zeros((reduced_ar.shape[0], 1))])\n",
    "    fname = file.split('\\\\')[1]\n",
    "    np.savetxt(f'SolidWorks/{fname}', reduced_ar, delimiter=' ')"
   ]
  },
  {
   "cell_type": "code",
   "execution_count": null,
   "id": "commercial-extraction",
   "metadata": {},
   "outputs": [],
   "source": []
  }
 ],
 "metadata": {
  "kernelspec": {
   "display_name": "Python 3",
   "language": "python",
   "name": "python3"
  },
  "language_info": {
   "codemirror_mode": {
    "name": "ipython",
    "version": 3
   },
   "file_extension": ".py",
   "mimetype": "text/x-python",
   "name": "python",
   "nbconvert_exporter": "python",
   "pygments_lexer": "ipython3",
   "version": "3.8.5"
  }
 },
 "nbformat": 4,
 "nbformat_minor": 5
}
