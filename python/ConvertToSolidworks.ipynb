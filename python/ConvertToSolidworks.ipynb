{
 "cells": [
  {
   "cell_type": "code",
   "execution_count": 1,
   "id": "chemical-identification",
   "metadata": {},
   "outputs": [],
   "source": [
    "import numpy as np\n",
    "import glob\n",
    "from scipy.optimize import root_scalar"
   ]
  },
  {
   "cell_type": "code",
   "execution_count": 2,
   "id": "realistic-diploma",
   "metadata": {},
   "outputs": [],
   "source": [
    "cfs = glob.glob('complete/*.txt')"
   ]
  },
  {
   "cell_type": "code",
   "execution_count": 3,
   "id": "decreased-powder",
   "metadata": {},
   "outputs": [],
   "source": [
    "for file in cfs:\n",
    "    with open(file, 'r') as in_file:\n",
    "        noz_length = float(in_file.readlines()[1].replace('#', '').strip())\n",
    "    ar = np.genfromtxt(file, delimiter=',', skip_header=2)\n",
    "    throat = ar[0, 0]\n",
    "    reduced_ar = ar[ar[:, 0] >= throat, 0:2]\n",
    "    reduced_ar = reduced_ar[reduced_ar[:, 0] <= 1.5 * throat]\n",
    "    reduced_ar[:, 0] -= throat\n",
    "    _, validIdx = np.unique(reduced_ar[:, 0], return_index=True)\n",
    "    reduced_ar = reduced_ar[validIdx, :]\n",
    "    reduced_ar = np.hstack([reduced_ar, np.zeros((reduced_ar.shape[0], 1))])\n",
    "    \n",
    "    rc = 6\n",
    "\n",
    "    r = rc * reduced_ar[0, 1]\n",
    "    y0 = reduced_ar[0, 1]\n",
    "\n",
    "    x1 = reduced_ar[1, 0]\n",
    "    y1 = reduced_ar[1, 1]\n",
    "\n",
    "    def obj_fun(theta):\n",
    "        yt = y0 * (rc+1) - r * np.cos(theta)\n",
    "        xt = r * np.sin(theta)\n",
    "\n",
    "        return (y1 - yt) / (x1 - xt) - np.tan(theta)\n",
    "\n",
    "    theta_end = root_scalar(obj_fun, method='bisect', x0=np.pi/6, bracket=[0, np.pi/2-.01]).root\n",
    "    theta_start = -np.pi/3\n",
    "\n",
    "    theta_s = np.linspace(theta_start, theta_end, 15).reshape(-1, 1)\n",
    "    \n",
    "    circ_xyz = np.hstack([\n",
    "        r * np.sin(theta_s),\n",
    "        y0 * (rc + 1) - r * np.cos(theta_s),\n",
    "        np.zeros(theta_s.shape)\n",
    "    ])\n",
    "    \n",
    "    corrected_ar = np.vstack([circ_xyz, reduced_ar[1:, :]])\n",
    "    \n",
    "    \n",
    "    fname = file.split('\\\\')[1]\n",
    "    np.savetxt(f'SolidWorks/{fname}', corrected_ar, delimiter=' ')"
   ]
  }
 ],
 "metadata": {
  "kernelspec": {
   "display_name": "Python 3",
   "language": "python",
   "name": "python3"
  },
  "language_info": {
   "codemirror_mode": {
    "name": "ipython",
    "version": 3
   },
   "file_extension": ".py",
   "mimetype": "text/x-python",
   "name": "python",
   "nbconvert_exporter": "python",
   "pygments_lexer": "ipython3",
   "version": "3.8.5"
  }
 },
 "nbformat": 4,
 "nbformat_minor": 5
}
