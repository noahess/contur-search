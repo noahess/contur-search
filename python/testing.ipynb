{
 "cells": [
  {
   "cell_type": "code",
   "execution_count": 8,
   "id": "environmental-cross",
   "metadata": {},
   "outputs": [],
   "source": [
    "import subprocess\n",
    "import sys"
   ]
  },
  {
   "cell_type": "code",
   "execution_count": 16,
   "id": "varying-performance",
   "metadata": {},
   "outputs": [
    {
     "data": {
      "text/plain": [
       "CompletedProcess(args='contur.exe', returncode=3221225785)"
      ]
     },
     "execution_count": 16,
     "metadata": {},
     "output_type": "execute_result"
    }
   ],
   "source": [
    "sys.path.append(r'C:\\Program Files (x86)\\Intel\\oneAPI\\tbb\\latest\\redist\\ia32\\vc_mt')\n",
    "subprocess.run('contur.exe')"
   ]
  },
  {
   "cell_type": "code",
   "execution_count": 4,
   "id": "about-application",
   "metadata": {},
   "outputs": [],
   "source": [
    "p1 = r\"C:\\Program Files (x86)\\NVIDIA Corporation\\PhysX\\Common;C:\\Program Files (x86)\\Intel\\oneAPI\\mpi\\latest\\bin\\;C:\\Program Files (x86)\\Intel\\oneAPI\\mpi\\latest\\bin\\release\\;C:\\Program Files (x86)\\Intel\\oneAPI\\mpi\\latest\\libfabric\\bin\\;C:\\Program Files (x86)\\Intel\\oneAPI\\mpi\\latest\\libfabric\\bin\\utils\\;C:\\Program Files (x86)\\Intel\\oneAPI\\tbb\\latest\\redist\\intel64\\vc_mt\\;C:\\Program Files (x86)\\Intel\\oneAPI\\tbb\\latest\\redist\\ia32\\vc_mt\\;C:\\Program Files (x86)\\Intel\\oneAPI\\compiler\\latest\\windows\\redist\\intel64_win\\compiler;C:\\Program Files (x86)\\Intel\\oneAPI\\compiler\\latest\\windows\\redist\\ia32_win\\compiler;C:\\VulkanSDK\\1.2.182.0\\Bin;C:\\Program Files\\ImageMagick-7.0.10-Q16-HDRI;C:\\Program Files\\Microsoft MPI\\Bin\\;C:\\Windows\\system32;C:\\Windows;C:\\Windows\\System32\\Wbem;C:\\Windows\\System32\\WindowsPowerShell\\v1.0\\;C:\\Windows\\System32\\OpenSSH\\;C:\\Program Files\\Intel\\WiFi\\bin\\;C:\\Program Files\\Common Files\\Intel\\WirelessCommon\\;C:\\Program Files\\MATLAB\\R2018b\\bin;C:\\Program Files\\dotnet\\;C:\\WINDOWS\\system32;C:\\WINDOWS;C:\\WINDOWS\\System32\\Wbem;C:\\WINDOWS\\System32\\WindowsPowerShell\\v1.0\\;C:\\WINDOWS\\System32\\OpenSSH\\;C:\\Program Files (x86)\\dotnet\\;C:\\Program Files\\Microsoft SQL Server\\Client SDK\\ODBC\\110\\Tools\\Binn\\;C:\\Program Files (x86)\\Microsoft SQL Server\\120\\Tools\\Binn\\;C:\\Program Files\\Microsoft SQL Server\\120\\Tools\\Binn\\;C:\\Program Files\\Microsoft SQL Server\\120\\DTS\\Binn\\;C:\\Program Files (x86)\\Windows Kits\\8.1\\Windows Performance Toolkit\\;C:\\Users\\njsto\\AppData\\Local\\Microsoft\\WindowsApps;C:\\Users\\njsto\\AppData\\Local\\Programs\\Microsoft VS Code\\bin;C:\\Users\\njsto\\AppData\\Local\\GitHubDesktop\\bin\"\n",
    "p2 = r\"C:\\Users\\njsto\\Anaconda3\\envs\\python;C:\\Users\\njsto\\Anaconda3\\envs\\python\\Library\\mingw-w64\\bin;C:\\Users\\njsto\\Anaconda3\\envs\\python\\Library\\usr\\bin;C:\\Users\\njsto\\Anaconda3\\envs\\python\\Library\\bin;C:\\Users\\njsto\\Anaconda3\\envs\\python\\Scripts;C:\\Users\\njsto\\Anaconda3\\envs\\python\\bin;C:\\Users\\njsto\\Anaconda3\\condabin;C:\\Program Files (x86)\\Common Files\\Intel\\Shared Libraries\\intel64\\libfabric\\bin;C:\\Program Files (x86)\\Common Files\\Intel\\Shared Libraries\\intel64\\libfabric\\bin\\utils;C:\\Program Files (x86)\\Common Files\\Intel\\Shared Libraries\\intel64\\bin;C:\\Program Files (x86)\\Common Files\\Intel\\Shared Libraries\\ia32;C:\\Program Files (x86)\\Common Files\\Intel\\Shared Libraries\\intel64;C:\\Program Files (x86)\\Common Files\\Intel\\Shared Libraries;C:\\Program Files (x86)\\NVIDIA Corporation\\PhysX\\Common;C:\\Program Files (x86)\\Intel\\oneAPI\\mpi\\latest\\bin;C:\\Program Files (x86)\\Intel\\oneAPI\\mpi\\latest\\bin\\release;C:\\Program Files (x86)\\Intel\\oneAPI\\mpi\\latest\\libfabric\\bin;C:\\Program Files (x86)\\Intel\\oneAPI\\mpi\\latest\\libfabric\\bin\\utils;C:\\Program Files (x86)\\Intel\\oneAPI\\tbb\\latest\\redist\\intel64\\vc_mt;C:\\Program Files (x86)\\Intel\\oneAPI\\tbb\\latest\\redist\\ia32\\vc_mt;C:\\Program Files (x86)\\Intel\\oneAPI\\compiler\\latest\\windows\\redist\\intel64_win\\compiler;C:\\Program Files (x86)\\Intel\\oneAPI\\compiler\\latest\\windows\\redist\\ia32_win\\compiler;C:\\VulkanSDK\\1.2.182.0\\Bin;C:\\Program Files\\ImageMagick-7.0.10-Q16-HDRI;C:\\Program Files\\Microsoft MPI\\Bin;C:\\Windows\\system32;C:\\Windows;C:\\Windows\\System32\\Wbem;C:\\Windows\\System32\\WindowsPowerShell\\v1.0;C:\\Windows\\System32\\OpenSSH;C:\\Program Files\\Intel\\WiFi\\bin;C:\\Program Files\\Common Files\\Intel\\WirelessCommon;C:\\Program Files\\MATLAB\\R2018b\\bin;C:\\Program Files\\dotnet;C:\\WINDOWS\\system32;C:\\WINDOWS;C:\\WINDOWS\\System32\\Wbem;C:\\WINDOWS\\System32\\WindowsPowerShell\\v1.0;C:\\WINDOWS\\System32\\OpenSSH;C:\\Program Files (x86)\\dotnet;C:\\Program Files\\Microsoft SQL Server\\Client SDK\\ODBC\\110\\Tools\\Binn;C:\\Program Files (x86)\\Microsoft SQL Server\\120\\Tools\\Binn;C:\\Program Files\\Microsoft SQL Server\\120\\Tools\\Binn;C:\\Program Files\\Microsoft SQL Server\\120\\DTS\\Binn;C:\\Program Files (x86)\\Windows Kits\\8.1\\Windows Performance Toolkit;C:\\Users\\njsto\\AppData\\Local\\Microsoft\\WindowsApps;C:\\Program Files\\Intel\\WiFi\\bin;C:\\Program Files\\Common Files\\Intel\\WirelessCommon;C:\\Users\\njsto\\AppData\\Local\\Programs\\Microsoft VS Code\\bin;C:\\Users\\njsto\\AppData\\Local\\GitHubDesktop\\bin;\""
   ]
  },
  {
   "cell_type": "code",
   "execution_count": 7,
   "id": "formal-norfolk",
   "metadata": {},
   "outputs": [
    {
     "name": "stdout",
     "output_type": "stream",
     "text": [
      "C:\\Program Files (x86)\\Intel\\oneAPI\\mpi\\latest\\bin\\\n",
      "C:\\Program Files (x86)\\Intel\\oneAPI\\mpi\\latest\\bin\\release\\\n",
      "C:\\Program Files (x86)\\Intel\\oneAPI\\mpi\\latest\\libfabric\\bin\\\n",
      "C:\\Program Files (x86)\\Intel\\oneAPI\\mpi\\latest\\libfabric\\bin\\utils\\\n",
      "C:\\Program Files (x86)\\Intel\\oneAPI\\tbb\\latest\\redist\\intel64\\vc_mt\\\n",
      "C:\\Program Files (x86)\\Intel\\oneAPI\\tbb\\latest\\redist\\ia32\\vc_mt\\\n",
      "C:\\Program Files\\Microsoft MPI\\Bin\\\n",
      "C:\\Windows\\System32\\WindowsPowerShell\\v1.0\\\n",
      "C:\\Windows\\System32\\OpenSSH\\\n",
      "C:\\Program Files\\Intel\\WiFi\\bin\\\n",
      "C:\\Program Files\\Common Files\\Intel\\WirelessCommon\\\n",
      "C:\\Program Files\\dotnet\\\n",
      "C:\\WINDOWS\\System32\\WindowsPowerShell\\v1.0\\\n",
      "C:\\WINDOWS\\System32\\OpenSSH\\\n",
      "C:\\Program Files (x86)\\dotnet\\\n",
      "C:\\Program Files\\Microsoft SQL Server\\Client SDK\\ODBC\\110\\Tools\\Binn\\\n",
      "C:\\Program Files (x86)\\Microsoft SQL Server\\120\\Tools\\Binn\\\n",
      "C:\\Program Files\\Microsoft SQL Server\\120\\Tools\\Binn\\\n",
      "C:\\Program Files\\Microsoft SQL Server\\120\\DTS\\Binn\\\n",
      "C:\\Program Files (x86)\\Windows Kits\\8.1\\Windows Performance Toolkit\\\n"
     ]
    }
   ],
   "source": [
    "for row in p1.split(';'):\n",
    "    if row not in p2.split(';'):\n",
    "        print(row)"
   ]
  },
  {
   "cell_type": "code",
   "execution_count": null,
   "id": "pending-interpretation",
   "metadata": {},
   "outputs": [],
   "source": []
  }
 ],
 "metadata": {
  "kernelspec": {
   "display_name": "Python 3",
   "language": "python",
   "name": "python3"
  },
  "language_info": {
   "codemirror_mode": {
    "name": "ipython",
    "version": 3
   },
   "file_extension": ".py",
   "mimetype": "text/x-python",
   "name": "python",
   "nbconvert_exporter": "python",
   "pygments_lexer": "ipython3",
   "version": "3.8.5"
  }
 },
 "nbformat": 4,
 "nbformat_minor": 5
}
