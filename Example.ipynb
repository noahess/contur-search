{
 "cells": [
  {
   "cell_type": "markdown",
   "id": "serious-literature",
   "metadata": {
    "pycharm": {
     "name": "#%% md\n"
    }
   },
   "source": [
    "# Example Usage of ConturPy\n",
    "## Noah Stockwell 4/17/2022"
   ]
  },
  {
   "cell_type": "markdown",
   "id": "serial-luxury",
   "metadata": {
    "pycharm": {
     "name": "#%% md\n"
    }
   },
   "source": [
    "This repository depends on numpy and scipy. Pandas is required to use ConturTable.to_pandas() routine which is exposed for the user, but not implemented in this example.\n",
    "\n",
    "Although ConturPy consists of many files, only ConturSettings and ConturApplication are required to do most standard work with Contur. ConturSettings provides a class-based interface to create input cards for Contur and ConturApplication provides the runtime and results for the compiled Contur executable. "
   ]
  },
  {
   "cell_type": "code",
   "execution_count": null,
   "id": "initial-multiple",
   "metadata": {
    "pycharm": {
     "name": "#%%\n"
    }
   },
   "outputs": [],
   "source": [
    "from conturpy import ConturSettings, ConturApplication"
   ]
  },
  {
   "cell_type": "markdown",
   "id": "satisfied-marina",
   "metadata": {
    "pycharm": {
     "name": "#%% md\n"
    }
   },
   "source": [
    "First, we must create the input parameters for Contur. Below, input cards for designing a Mach 5 nozzle are created programmatically."
   ]
  },
  {
   "cell_type": "code",
   "execution_count": null,
   "id": "thirty-ending",
   "metadata": {
    "pycharm": {
     "name": "#%%\n"
    }
   },
   "outputs": [],
   "source": [
    "c = ConturSettings()\n",
    "\n",
    "dmach = 7.0               # design mach\n",
    "throat_radius = 0.65 / 2  # inches\n",
    "\n",
    "# Card 1: the title of the simulation\n",
    "c[\"ITLE\"] = f\"Mach {dmach}\"\n",
    "\n",
    "# Card 2 contains gas properties. As air is the assumed working fluid, no changes are required\n",
    "\n",
    "# Card 3: key design parameters\n",
    "c[\"ETAD\"] = 60      # Angle at point D\n",
    "c[\"RC\"] = 6.0       # Radius of curvature at throat [multiple of throat radius]\n",
    "c[\"CMC\"] = dmach    # Design mach\n",
    "c[\"SF\"] = throat_radius\n",
    "\n",
    "# Card 6 (B): stagnation and heat transfer properties\n",
    "c[\"PPQ\"] = 120      # Stagnation pressure [psia]\n",
    "c[\"TO\"] = 1000      # Stagnation temperature [R]\n",
    "c[\"TWT\"] = 540      # Wall temperature [R]\n",
    "c[\"TWAT\"] = 540     # Water-cooling temp [R] (suggest setting to TWT since water cooling not assumed)\n",
    "\n",
    "# Card 7 (D): interpolation parameters\n",
    "c[\"XLOW\"] = 0       # Point to begin interpolating contour [in]\n",
    "c[\"XEND\"] = 20      # Point to end interpolating contour [in]\n",
    "c[\"XINC\"] = .1      # Increment to interpolate by [in]\n",
    "\n",
    "# Create the input text file and save it to 'm5.0.txt' in the folder 'inputcards'\n",
    "c.print_to_input(file_name=f'm{dmach:.1f}.txt', output_directory='inputcards')"
   ]
  },
  {
   "cell_type": "markdown",
   "id": "hidden-effect",
   "metadata": {
    "pycharm": {
     "name": "#%% md\n"
    }
   },
   "source": [
    "Next, initialize and run the Contur executable for all files in the 'inputcards' folder and send all outputs to the 'outputs' folder. All files used as inputs are automatically removed. A ConturResults instance is created for every input and returned.\n",
    "\n",
    "Contur's boundary layer output is unusual and the author could not figure out how to treat this subsection. Attempting to read boundary layer output will often throw a warning about un-formatted extra Contur array outputs, but this is fine as no data is lost."
   ]
  },
  {
   "cell_type": "code",
   "execution_count": null,
   "id": "deluxe-physics",
   "metadata": {
    "collapsed": false,
    "jupyter": {
     "outputs_hidden": false
    },
    "pycharm": {
     "name": "#%%\n"
    }
   },
   "outputs": [],
   "source": [
    "ca = ConturApplication()\n",
    "res = ca.batch_input_folder('inputcards', output_dir='outputs')"
   ]
  },
  {
   "cell_type": "markdown",
   "id": "analyzed-projection",
   "metadata": {
    "pycharm": {
     "name": "#%% md\n"
    }
   },
   "source": [
    "Lastly, for every ConturResult (we only have one from Mach 5.0), save plots and data in .csv files to a subfolder under the 'outputs' folder titled 'nozzle_5.0/'\n",
    "\n",
    "The cell starts with %%capture to prevent drawing of half-finished plots"
   ]
  },
  {
   "cell_type": "code",
   "execution_count": null,
   "outputs": [],
   "source": [
    "%%capture\n",
    "\n",
    "for r in res:\n",
    "    r.save_all(f\"outputs/nozzle_{r.design_mach}\")"
   ],
   "metadata": {
    "collapsed": false,
    "pycharm": {
     "name": "#%%\n"
    }
   }
  },
  {
   "cell_type": "code",
   "execution_count": null,
   "id": "operating-shoulder",
   "metadata": {},
   "outputs": [],
   "source": [
    "%%capture\n",
    "\n",
    "for r in res:\n",
    "    r.save_all(f\"outputs/nozzle_{r.design_mach}\")"
   ]
  }
 ],
 "metadata": {
  "kernelspec": {
   "display_name": "Python 3",
   "language": "python",
   "name": "python3"
  },
  "language_info": {
   "codemirror_mode": {
    "name": "ipython",
    "version": 3
   },
   "file_extension": ".py",
   "mimetype": "text/x-python",
   "name": "python",
   "nbconvert_exporter": "python",
   "pygments_lexer": "ipython3",
   "version": "3.8.5"
  }
 },
 "nbformat": 4,
 "nbformat_minor": 5
}